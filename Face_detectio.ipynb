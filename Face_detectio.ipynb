{
  "nbformat": 4,
  "nbformat_minor": 0,
  "metadata": {
    "colab": {
      "provenance": [],
      "collapsed_sections": [],
      "include_colab_link": true
    },
    "kernelspec": {
      "name": "python3",
      "display_name": "Python 3"
    },
    "language_info": {
      "name": "python"
    },
    "gpuClass": "standard"
  },
  "cells": [
    {
      "cell_type": "markdown",
      "metadata": {
        "id": "view-in-github",
        "colab_type": "text"
      },
      "source": [
        "<a href=\"https://colab.research.google.com/github/swaroop116/machine-learning-learn/blob/main/Face_detectio.ipynb\" target=\"_parent\"><img src=\"https://colab.research.google.com/assets/colab-badge.svg\" alt=\"Open In Colab\"/></a>"
      ]
    },
    {
      "cell_type": "code",
      "execution_count": 1,
      "metadata": {
        "id": "TeGm1CmQpXrc",
        "colab": {
          "base_uri": "https://localhost:8080/"
        },
        "outputId": "f73d7c80-085d-4d39-d139-7bb8b981b825"
      },
      "outputs": [
        {
          "output_type": "stream",
          "name": "stdout",
          "text": [
            "Looking in indexes: https://pypi.org/simple, https://us-python.pkg.dev/colab-wheels/public/simple/\n",
            "Collecting face_recognition\n",
            "  Downloading face_recognition-1.3.0-py2.py3-none-any.whl (15 kB)\n",
            "Requirement already satisfied: Click>=6.0 in /usr/local/lib/python3.7/dist-packages (from face_recognition) (7.1.2)\n",
            "Requirement already satisfied: dlib>=19.7 in /usr/local/lib/python3.7/dist-packages (from face_recognition) (19.24.0)\n",
            "Requirement already satisfied: numpy in /usr/local/lib/python3.7/dist-packages (from face_recognition) (1.21.6)\n",
            "Collecting face-recognition-models>=0.3.0\n",
            "  Downloading face_recognition_models-0.3.0.tar.gz (100.1 MB)\n",
            "\u001b[K     |████████████████████████████████| 100.1 MB 82.2 MB/s \n",
            "\u001b[?25hRequirement already satisfied: Pillow in /usr/local/lib/python3.7/dist-packages (from face_recognition) (7.1.2)\n",
            "Building wheels for collected packages: face-recognition-models\n",
            "  Building wheel for face-recognition-models (setup.py) ... \u001b[?25l\u001b[?25hdone\n",
            "  Created wheel for face-recognition-models: filename=face_recognition_models-0.3.0-py2.py3-none-any.whl size=100566186 sha256=247cc09f5b11008c48d14346bb597a0b54d204912042f2a93cae634289f8c872\n",
            "  Stored in directory: /root/.cache/pip/wheels/d6/81/3c/884bcd5e1c120ff548d57c2ecc9ebf3281c9a6f7c0e7e7947a\n",
            "Successfully built face-recognition-models\n",
            "Installing collected packages: face-recognition-models, face-recognition\n",
            "Successfully installed face-recognition-1.3.0 face-recognition-models-0.3.0\n"
          ]
        }
      ],
      "source": [
        "pip install face_recognition"
      ]
    },
    {
      "cell_type": "markdown",
      "source": [
        "Importing libraries of face recognition "
      ],
      "metadata": {
        "id": "JGHYApv_b6jf"
      }
    },
    {
      "cell_type": "code",
      "source": [
        "pip install opencv-python"
      ],
      "metadata": {
        "colab": {
          "base_uri": "https://localhost:8080/"
        },
        "id": "KRDqnBGGpfTq",
        "outputId": "3b1692df-f07b-43c7-9e85-5556787a4f36"
      },
      "execution_count": 2,
      "outputs": [
        {
          "output_type": "stream",
          "name": "stdout",
          "text": [
            "Looking in indexes: https://pypi.org/simple, https://us-python.pkg.dev/colab-wheels/public/simple/\n",
            "Requirement already satisfied: opencv-python in /usr/local/lib/python3.7/dist-packages (4.6.0.66)\n",
            "Requirement already satisfied: numpy>=1.14.5 in /usr/local/lib/python3.7/dist-packages (from opencv-python) (1.21.6)\n"
          ]
        }
      ]
    },
    {
      "cell_type": "code",
      "source": [
        "import face_recognition\n",
        "import cv2\n",
        "import numpy as np\n"
      ],
      "metadata": {
        "id": "PLyKF921pvT5"
      },
      "execution_count": 3,
      "outputs": []
    },
    {
      "cell_type": "code",
      "source": [
        "import os\n",
        "import glob\n"
      ],
      "metadata": {
        "id": "IV7twLqDp5nO"
      },
      "execution_count": 4,
      "outputs": []
    },
    {
      "cell_type": "code",
      "source": [
        "#video_capture=cv2.VideoCapture(0)"
      ],
      "metadata": {
        "id": "wiyN7Gqeqll2"
      },
      "execution_count": 5,
      "outputs": []
    },
    {
      "cell_type": "code",
      "source": [
        "!pip install opendatasets\n",
        "import opendatasets as od"
      ],
      "metadata": {
        "colab": {
          "base_uri": "https://localhost:8080/"
        },
        "id": "UIqPDHpKTJ_4",
        "outputId": "b10d081b-8136-4373-910f-686b49c464fb"
      },
      "execution_count": 6,
      "outputs": [
        {
          "output_type": "stream",
          "name": "stdout",
          "text": [
            "Looking in indexes: https://pypi.org/simple, https://us-python.pkg.dev/colab-wheels/public/simple/\n",
            "Collecting opendatasets\n",
            "  Downloading opendatasets-0.1.22-py3-none-any.whl (15 kB)\n",
            "Requirement already satisfied: kaggle in /usr/local/lib/python3.7/dist-packages (from opendatasets) (1.5.12)\n",
            "Requirement already satisfied: click in /usr/local/lib/python3.7/dist-packages (from opendatasets) (7.1.2)\n",
            "Requirement already satisfied: tqdm in /usr/local/lib/python3.7/dist-packages (from opendatasets) (4.64.1)\n",
            "Requirement already satisfied: certifi in /usr/local/lib/python3.7/dist-packages (from kaggle->opendatasets) (2022.9.24)\n",
            "Requirement already satisfied: six>=1.10 in /usr/local/lib/python3.7/dist-packages (from kaggle->opendatasets) (1.15.0)\n",
            "Requirement already satisfied: python-dateutil in /usr/local/lib/python3.7/dist-packages (from kaggle->opendatasets) (2.8.2)\n",
            "Requirement already satisfied: python-slugify in /usr/local/lib/python3.7/dist-packages (from kaggle->opendatasets) (6.1.2)\n",
            "Requirement already satisfied: urllib3 in /usr/local/lib/python3.7/dist-packages (from kaggle->opendatasets) (1.24.3)\n",
            "Requirement already satisfied: requests in /usr/local/lib/python3.7/dist-packages (from kaggle->opendatasets) (2.23.0)\n",
            "Requirement already satisfied: text-unidecode>=1.3 in /usr/local/lib/python3.7/dist-packages (from python-slugify->kaggle->opendatasets) (1.3)\n",
            "Requirement already satisfied: idna<3,>=2.5 in /usr/local/lib/python3.7/dist-packages (from requests->kaggle->opendatasets) (2.10)\n",
            "Requirement already satisfied: chardet<4,>=3.0.2 in /usr/local/lib/python3.7/dist-packages (from requests->kaggle->opendatasets) (3.0.4)\n",
            "Installing collected packages: opendatasets\n",
            "Successfully installed opendatasets-0.1.22\n"
          ]
        }
      ]
    },
    {
      "cell_type": "markdown",
      "source": [
        "importing celebrity datasets from kaggle"
      ],
      "metadata": {
        "id": "VtIQKbIRcjCj"
      }
    },
    {
      "cell_type": "code",
      "source": [
        "od.download('https://www.kaggle.com/datasets/dansbecker/5-celebrity-faces-dataset')"
      ],
      "metadata": {
        "colab": {
          "base_uri": "https://localhost:8080/"
        },
        "id": "yjh4fNNbS77T",
        "outputId": "ace5307c-8b4d-4755-a12d-d53597b7cc06"
      },
      "execution_count": 7,
      "outputs": [
        {
          "output_type": "stream",
          "name": "stdout",
          "text": [
            "Please provide your Kaggle credentials to download this dataset. Learn more: http://bit.ly/kaggle-creds\n",
            "Your Kaggle username: saiswarooprachakonda\n",
            "Your Kaggle Key: ··········\n",
            "Downloading 5-celebrity-faces-dataset.zip to ./5-celebrity-faces-dataset\n"
          ]
        },
        {
          "output_type": "stream",
          "name": "stderr",
          "text": [
            "100%|██████████| 5.03M/5.03M [00:00<00:00, 6.63MB/s]"
          ]
        },
        {
          "output_type": "stream",
          "name": "stdout",
          "text": [
            "\n"
          ]
        },
        {
          "output_type": "stream",
          "name": "stderr",
          "text": [
            "\n"
          ]
        }
      ]
    },
    {
      "cell_type": "markdown",
      "source": [
        "downloading celebrity face datasets from kaggle"
      ],
      "metadata": {
        "id": "w90cybHQExdj"
      }
    },
    {
      "cell_type": "code",
      "source": [
        "benafflek= [cv2.imread(file) for file in glob.glob('/content/5-celebrity-faces-dataset/data/train/ben_afflek/*.jpg')]\n",
        "kjj=[]\n",
        "for img in benafflek:\n",
        "  kjj.append(face_recognition.face_encodings(img))"
      ],
      "metadata": {
        "id": "y-wU7dlurY9J"
      },
      "execution_count": 8,
      "outputs": []
    },
    {
      "cell_type": "markdown",
      "source": [
        "using opencv to store file of images and encoding them"
      ],
      "metadata": {
        "id": "us9aVdMDE6IQ"
      }
    },
    {
      "cell_type": "code",
      "source": [
        "eltonjohnson= [cv2.imread(file) for file in glob.glob('/content/5-celebrity-faces-dataset/data/train/elton_john/*.jpg')]\n",
        "abc=[]\n",
        "for imgg in eltonjohnson:\n",
        "  abc.append(face_recognition.face_encodings(imgg))\n",
        "  "
      ],
      "metadata": {
        "id": "i_FQpqdzrhsw"
      },
      "execution_count": 9,
      "outputs": []
    },
    {
      "cell_type": "code",
      "source": [
        "jerryseinfeld=[cv2.imread(file) for file in glob.glob('/content/5-celebrity-faces-dataset/data/train/jerry_seinfeld/*.jpg')]\n",
        "defg=[]\n",
        "for imag in jerryseinfeld:\n",
        "  defg.append(face_recognition.face_encodings(imag))"
      ],
      "metadata": {
        "id": "KAE1rLG7coie"
      },
      "execution_count": 10,
      "outputs": []
    },
    {
      "cell_type": "code",
      "source": [
        "madonna=[cv2.imread(file) for file in glob.glob('/content/5-celebrity-faces-dataset/data/train/madonna/*.jpg')]\n",
        "dei=[]\n",
        "for im in madonna:\n",
        "  dei.append(face_recognition.face_encodings(im))"
      ],
      "metadata": {
        "id": "duWR58zkcpAA"
      },
      "execution_count": 11,
      "outputs": []
    },
    {
      "cell_type": "code",
      "source": [
        "mindykaling=[cv2.imread(file) for file in glob.glob('/content/5-celebrity-faces-dataset/data/train/mindy_kaling/*.jpg')]\n",
        "dej=[]\n",
        "for il in mindykaling:\n",
        "  dej.append(face_recognition.face_encodings(il))"
      ],
      "metadata": {
        "id": "FWq9zv5gcpRT"
      },
      "execution_count": 12,
      "outputs": []
    },
    {
      "cell_type": "code",
      "source": [
        "known_face_encoding=[kjj,abc,defg,dei,dej]"
      ],
      "metadata": {
        "id": "4K0sY7ZjvlnH"
      },
      "execution_count": 13,
      "outputs": []
    },
    {
      "cell_type": "code",
      "source": [
        "known_face_names=[\"benafflek\",\"elton johnson\",\"jerry seinfeld\",\"madonna\",\"mindy kaling\"]"
      ],
      "metadata": {
        "id": "SyMBhRBPv77F"
      },
      "execution_count": 14,
      "outputs": []
    },
    {
      "cell_type": "code",
      "source": [
        "#imageee=face_recognition.load_image_file('/content/5-celebrity-faces-dataset/val/ben_afflek/httpabsolumentgratuitfreefrimagesbenaffleckjpg.jpg')\n",
        "imagee=[cv2.imread(file) for file in glob.glob('/content/5-celebrity-faces-dataset/val/jerry_seinfeld/*.jpg')]\n",
        "tes=[]\n",
        "fin=[]\n",
        "#ijk=face_recognition.face_encodings(imageee)\n",
        "for ik in imagee:\n",
        "  tes.append(face_recognition.face_encodings(ik))\n",
        "for i in range(len(known_face_encoding)): \n",
        "  for j in range(len(known_face_encoding[i])):\n",
        "    for k in range(len(known_face_encoding[i][j])):\n",
        "      for l in range(len(tes)):\n",
        "        matches=face_recognition.compare_faces(known_face_encoding[i][j][k],tes[l])\n",
        "  # print(known_face_names[i])\n",
        "        if matches[0]:\n",
        "    #print(known_face_names[i])\n",
        "          fin.append(known_face_names[i])\n",
        "          break\n",
        "print(fin)\n",
        "  "
      ],
      "metadata": {
        "colab": {
          "base_uri": "https://localhost:8080/"
        },
        "id": "edoD1rI0LM4_",
        "outputId": "7a48cb3b-0d85-4694-ea5b-7fdb5df93422"
      },
      "execution_count": 17,
      "outputs": [
        {
          "output_type": "stream",
          "name": "stdout",
          "text": [
            "['elton johnson', 'jerry seinfeld', 'jerry seinfeld', 'jerry seinfeld', 'jerry seinfeld', 'jerry seinfeld', 'jerry seinfeld', 'jerry seinfeld', 'jerry seinfeld', 'jerry seinfeld', 'jerry seinfeld', 'jerry seinfeld', 'jerry seinfeld', 'jerry seinfeld', 'jerry seinfeld', 'jerry seinfeld', 'jerry seinfeld', 'jerry seinfeld', 'jerry seinfeld', 'jerry seinfeld', 'jerry seinfeld', 'jerry seinfeld']\n"
          ]
        }
      ]
    },
    {
      "cell_type": "markdown",
      "source": [
        "Compares face encodings of the given image with the already known face encodings and when a match hits, the name of the celebrity with which it matched is stored in an array named fin."
      ],
      "metadata": {
        "id": "QfFQB-LLH0Mo"
      }
    },
    {
      "cell_type": "code",
      "source": [
        "np.unique(fin,return_counts=True)\n"
      ],
      "metadata": {
        "id": "jZNrJ4AWw6kh",
        "colab": {
          "base_uri": "https://localhost:8080/"
        },
        "outputId": "1ea5ed70-24a3-4d1f-a583-6284fdd8cb6a"
      },
      "execution_count": 21,
      "outputs": [
        {
          "output_type": "execute_result",
          "data": {
            "text/plain": [
              "(array(['elton johnson', 'jerry seinfeld'], dtype='<U14'), array([ 1, 21]))"
            ]
          },
          "metadata": {},
          "execution_count": 21
        }
      ]
    },
    {
      "cell_type": "markdown",
      "source": [
        "array contains two values elton johson and jeery seinfeld which are two celbrities that model recognised in the photos supplied"
      ],
      "metadata": {
        "id": "KpA_TaPPIIKO"
      }
    },
    {
      "cell_type": "code",
      "source": [
        "from collections import Counter\n",
        "max_value = Counter(fin)\n",
        "print(max_value.most_common(1))"
      ],
      "metadata": {
        "colab": {
          "base_uri": "https://localhost:8080/"
        },
        "id": "huM6xlE5GOM4",
        "outputId": "882ee648-80f3-4a79-9d27-9905823737a3"
      },
      "execution_count": 23,
      "outputs": [
        {
          "output_type": "stream",
          "name": "stdout",
          "text": [
            "[('jerry seinfeld', 21)]\n"
          ]
        }
      ]
    },
    {
      "cell_type": "markdown",
      "source": [
        "The model predicted the photos correctly as jerry seinfeld as out of 22 photos it predicted correctly for 21 times"
      ],
      "metadata": {
        "id": "cNashi11HhBC"
      }
    },
    {
      "cell_type": "code",
      "source": [],
      "metadata": {
        "id": "j1H3KBW3Hcz8"
      },
      "execution_count": null,
      "outputs": []
    }
  ]
}