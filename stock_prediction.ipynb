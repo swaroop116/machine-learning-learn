{
  "metadata": {
    "kernelspec": {
      "display_name": "Python 3 (ipykernel)",
      "language": "python",
      "name": "python3"
    },
    "language_info": {
      "codemirror_mode": {
        "name": "ipython",
        "version": 3
      },
      "file_extension": ".py",
      "mimetype": "text/x-python",
      "name": "python",
      "nbconvert_exporter": "python",
      "pygments_lexer": "ipython3",
      "version": "3.9.12"
    },
    "colab": {
      "provenance": [],
      "include_colab_link": true
    }
  },
  "nbformat_minor": 5,
  "nbformat": 4,
  "cells": [
    {
      "cell_type": "markdown",
      "metadata": {
        "id": "view-in-github",
        "colab_type": "text"
      },
      "source": [
        "<a href=\"https://colab.research.google.com/github/swaroop116/machine-learning-learn/blob/main/stock_prediction.ipynb\" target=\"_parent\"><img src=\"https://colab.research.google.com/assets/colab-badge.svg\" alt=\"Open In Colab\"/></a>"
      ]
    },
    {
      "cell_type": "code",
      "source": [
        "import pandas as pd\n",
        "import numpy as np\n",
        "import matplotlib.pyplot as plt\n",
        "import matplotlib\n",
        "import matplotlib.dates as mandates\n",
        "\n",
        "from sklearn.preprocessing import MinMaxScaler\n",
        "from sklearn.model_selection import TimeSeriesSplit\n",
        "from sklearn.metrics import mean_squared_error, r2_score\n",
        "from sklearn import metrics\n",
        "from sklearn import linear_model\n",
        "\n",
        "from keras.layers import LSTM, Dense, Dropout\n",
        "from keras.models import Sequential\n"
      ],
      "metadata": {
        "id": "LNFe6xjprZHa"
      },
      "execution_count": 1,
      "outputs": [],
      "id": "LNFe6xjprZHa"
    },
    {
      "cell_type": "code",
      "source": [
        "!pip install opendatasets\n",
        "import opendatasets as od\n",
        "od.download(\"https://www.kaggle.com/datasets/jainilcoder/netflix-stock-price-prediction\")"
      ],
      "metadata": {
        "colab": {
          "base_uri": "https://localhost:8080/"
        },
        "id": "FBbhNWz6rrl9",
        "outputId": "aaef00b7-0e76-496b-882b-adfc84b512a0"
      },
      "id": "FBbhNWz6rrl9",
      "execution_count": 4,
      "outputs": [
        {
          "output_type": "stream",
          "name": "stdout",
          "text": [
            "Looking in indexes: https://pypi.org/simple, https://us-python.pkg.dev/colab-wheels/public/simple/\n",
            "Collecting opendatasets\n",
            "  Downloading opendatasets-0.1.22-py3-none-any.whl (15 kB)\n",
            "Requirement already satisfied: tqdm in /usr/local/lib/python3.8/dist-packages (from opendatasets) (4.64.1)\n",
            "Requirement already satisfied: kaggle in /usr/local/lib/python3.8/dist-packages (from opendatasets) (1.5.12)\n",
            "Requirement already satisfied: click in /usr/local/lib/python3.8/dist-packages (from opendatasets) (8.1.3)\n",
            "Requirement already satisfied: python-slugify in /usr/local/lib/python3.8/dist-packages (from kaggle->opendatasets) (8.0.1)\n",
            "Requirement already satisfied: python-dateutil in /usr/local/lib/python3.8/dist-packages (from kaggle->opendatasets) (2.8.2)\n",
            "Requirement already satisfied: six>=1.10 in /usr/local/lib/python3.8/dist-packages (from kaggle->opendatasets) (1.15.0)\n",
            "Requirement already satisfied: requests in /usr/local/lib/python3.8/dist-packages (from kaggle->opendatasets) (2.25.1)\n",
            "Requirement already satisfied: urllib3 in /usr/local/lib/python3.8/dist-packages (from kaggle->opendatasets) (1.26.14)\n",
            "Requirement already satisfied: certifi in /usr/local/lib/python3.8/dist-packages (from kaggle->opendatasets) (2022.12.7)\n",
            "Requirement already satisfied: text-unidecode>=1.3 in /usr/local/lib/python3.8/dist-packages (from python-slugify->kaggle->opendatasets) (1.3)\n",
            "Requirement already satisfied: idna<3,>=2.5 in /usr/local/lib/python3.8/dist-packages (from requests->kaggle->opendatasets) (2.10)\n",
            "Requirement already satisfied: chardet<5,>=3.0.2 in /usr/local/lib/python3.8/dist-packages (from requests->kaggle->opendatasets) (4.0.0)\n",
            "Installing collected packages: opendatasets\n",
            "Successfully installed opendatasets-0.1.22\n",
            "Please provide your Kaggle credentials to download this dataset. Learn more: http://bit.ly/kaggle-creds\n",
            "Your Kaggle username: saiswarooprachakonda\n",
            "Your Kaggle Key: ··········\n",
            "Downloading netflix-stock-price-prediction.zip to ./netflix-stock-price-prediction\n"
          ]
        },
        {
          "output_type": "stream",
          "name": "stderr",
          "text": [
            "100%|██████████| 20.9k/20.9k [00:00<00:00, 13.5MB/s]"
          ]
        },
        {
          "output_type": "stream",
          "name": "stdout",
          "text": [
            "\n"
          ]
        },
        {
          "output_type": "stream",
          "name": "stderr",
          "text": [
            "\n"
          ]
        }
      ]
    },
    {
      "cell_type": "code",
      "source": [
        "df = pd.read_csv(\"/content/netflix-stock-price-prediction/NFLX.csv\")\n",
        "df.head()"
      ],
      "metadata": {
        "colab": {
          "base_uri": "https://localhost:8080/",
          "height": 206
        },
        "id": "MkFlwUA5rZHe",
        "outputId": "e801b814-3da1-4e94-befa-7f5ada3689f5"
      },
      "execution_count": 5,
      "outputs": [
        {
          "output_type": "execute_result",
          "data": {
            "text/plain": [
              "         Date        Open        High         Low       Close   Adj Close  \\\n",
              "0  2018-02-05  262.000000  267.899994  250.029999  254.259995  254.259995   \n",
              "1  2018-02-06  247.699997  266.700012  245.000000  265.720001  265.720001   \n",
              "2  2018-02-07  266.579987  272.450012  264.329987  264.559998  264.559998   \n",
              "3  2018-02-08  267.079987  267.619995  250.000000  250.100006  250.100006   \n",
              "4  2018-02-09  253.850006  255.800003  236.110001  249.470001  249.470001   \n",
              "\n",
              "     Volume  \n",
              "0  11896100  \n",
              "1  12595800  \n",
              "2   8981500  \n",
              "3   9306700  \n",
              "4  16906900  "
            ],
            "text/html": [
              "\n",
              "  <div id=\"df-a20f9307-72eb-403a-9f7e-6eb0f2fceadb\">\n",
              "    <div class=\"colab-df-container\">\n",
              "      <div>\n",
              "<style scoped>\n",
              "    .dataframe tbody tr th:only-of-type {\n",
              "        vertical-align: middle;\n",
              "    }\n",
              "\n",
              "    .dataframe tbody tr th {\n",
              "        vertical-align: top;\n",
              "    }\n",
              "\n",
              "    .dataframe thead th {\n",
              "        text-align: right;\n",
              "    }\n",
              "</style>\n",
              "<table border=\"1\" class=\"dataframe\">\n",
              "  <thead>\n",
              "    <tr style=\"text-align: right;\">\n",
              "      <th></th>\n",
              "      <th>Date</th>\n",
              "      <th>Open</th>\n",
              "      <th>High</th>\n",
              "      <th>Low</th>\n",
              "      <th>Close</th>\n",
              "      <th>Adj Close</th>\n",
              "      <th>Volume</th>\n",
              "    </tr>\n",
              "  </thead>\n",
              "  <tbody>\n",
              "    <tr>\n",
              "      <th>0</th>\n",
              "      <td>2018-02-05</td>\n",
              "      <td>262.000000</td>\n",
              "      <td>267.899994</td>\n",
              "      <td>250.029999</td>\n",
              "      <td>254.259995</td>\n",
              "      <td>254.259995</td>\n",
              "      <td>11896100</td>\n",
              "    </tr>\n",
              "    <tr>\n",
              "      <th>1</th>\n",
              "      <td>2018-02-06</td>\n",
              "      <td>247.699997</td>\n",
              "      <td>266.700012</td>\n",
              "      <td>245.000000</td>\n",
              "      <td>265.720001</td>\n",
              "      <td>265.720001</td>\n",
              "      <td>12595800</td>\n",
              "    </tr>\n",
              "    <tr>\n",
              "      <th>2</th>\n",
              "      <td>2018-02-07</td>\n",
              "      <td>266.579987</td>\n",
              "      <td>272.450012</td>\n",
              "      <td>264.329987</td>\n",
              "      <td>264.559998</td>\n",
              "      <td>264.559998</td>\n",
              "      <td>8981500</td>\n",
              "    </tr>\n",
              "    <tr>\n",
              "      <th>3</th>\n",
              "      <td>2018-02-08</td>\n",
              "      <td>267.079987</td>\n",
              "      <td>267.619995</td>\n",
              "      <td>250.000000</td>\n",
              "      <td>250.100006</td>\n",
              "      <td>250.100006</td>\n",
              "      <td>9306700</td>\n",
              "    </tr>\n",
              "    <tr>\n",
              "      <th>4</th>\n",
              "      <td>2018-02-09</td>\n",
              "      <td>253.850006</td>\n",
              "      <td>255.800003</td>\n",
              "      <td>236.110001</td>\n",
              "      <td>249.470001</td>\n",
              "      <td>249.470001</td>\n",
              "      <td>16906900</td>\n",
              "    </tr>\n",
              "  </tbody>\n",
              "</table>\n",
              "</div>\n",
              "      <button class=\"colab-df-convert\" onclick=\"convertToInteractive('df-a20f9307-72eb-403a-9f7e-6eb0f2fceadb')\"\n",
              "              title=\"Convert this dataframe to an interactive table.\"\n",
              "              style=\"display:none;\">\n",
              "        \n",
              "  <svg xmlns=\"http://www.w3.org/2000/svg\" height=\"24px\"viewBox=\"0 0 24 24\"\n",
              "       width=\"24px\">\n",
              "    <path d=\"M0 0h24v24H0V0z\" fill=\"none\"/>\n",
              "    <path d=\"M18.56 5.44l.94 2.06.94-2.06 2.06-.94-2.06-.94-.94-2.06-.94 2.06-2.06.94zm-11 1L8.5 8.5l.94-2.06 2.06-.94-2.06-.94L8.5 2.5l-.94 2.06-2.06.94zm10 10l.94 2.06.94-2.06 2.06-.94-2.06-.94-.94-2.06-.94 2.06-2.06.94z\"/><path d=\"M17.41 7.96l-1.37-1.37c-.4-.4-.92-.59-1.43-.59-.52 0-1.04.2-1.43.59L10.3 9.45l-7.72 7.72c-.78.78-.78 2.05 0 2.83L4 21.41c.39.39.9.59 1.41.59.51 0 1.02-.2 1.41-.59l7.78-7.78 2.81-2.81c.8-.78.8-2.07 0-2.86zM5.41 20L4 18.59l7.72-7.72 1.47 1.35L5.41 20z\"/>\n",
              "  </svg>\n",
              "      </button>\n",
              "      \n",
              "  <style>\n",
              "    .colab-df-container {\n",
              "      display:flex;\n",
              "      flex-wrap:wrap;\n",
              "      gap: 12px;\n",
              "    }\n",
              "\n",
              "    .colab-df-convert {\n",
              "      background-color: #E8F0FE;\n",
              "      border: none;\n",
              "      border-radius: 50%;\n",
              "      cursor: pointer;\n",
              "      display: none;\n",
              "      fill: #1967D2;\n",
              "      height: 32px;\n",
              "      padding: 0 0 0 0;\n",
              "      width: 32px;\n",
              "    }\n",
              "\n",
              "    .colab-df-convert:hover {\n",
              "      background-color: #E2EBFA;\n",
              "      box-shadow: 0px 1px 2px rgba(60, 64, 67, 0.3), 0px 1px 3px 1px rgba(60, 64, 67, 0.15);\n",
              "      fill: #174EA6;\n",
              "    }\n",
              "\n",
              "    [theme=dark] .colab-df-convert {\n",
              "      background-color: #3B4455;\n",
              "      fill: #D2E3FC;\n",
              "    }\n",
              "\n",
              "    [theme=dark] .colab-df-convert:hover {\n",
              "      background-color: #434B5C;\n",
              "      box-shadow: 0px 1px 3px 1px rgba(0, 0, 0, 0.15);\n",
              "      filter: drop-shadow(0px 1px 2px rgba(0, 0, 0, 0.3));\n",
              "      fill: #FFFFFF;\n",
              "    }\n",
              "  </style>\n",
              "\n",
              "      <script>\n",
              "        const buttonEl =\n",
              "          document.querySelector('#df-a20f9307-72eb-403a-9f7e-6eb0f2fceadb button.colab-df-convert');\n",
              "        buttonEl.style.display =\n",
              "          google.colab.kernel.accessAllowed ? 'block' : 'none';\n",
              "\n",
              "        async function convertToInteractive(key) {\n",
              "          const element = document.querySelector('#df-a20f9307-72eb-403a-9f7e-6eb0f2fceadb');\n",
              "          const dataTable =\n",
              "            await google.colab.kernel.invokeFunction('convertToInteractive',\n",
              "                                                     [key], {});\n",
              "          if (!dataTable) return;\n",
              "\n",
              "          const docLinkHtml = 'Like what you see? Visit the ' +\n",
              "            '<a target=\"_blank\" href=https://colab.research.google.com/notebooks/data_table.ipynb>data table notebook</a>'\n",
              "            + ' to learn more about interactive tables.';\n",
              "          element.innerHTML = '';\n",
              "          dataTable['output_type'] = 'display_data';\n",
              "          await google.colab.output.renderOutput(dataTable, element);\n",
              "          const docLink = document.createElement('div');\n",
              "          docLink.innerHTML = docLinkHtml;\n",
              "          element.appendChild(docLink);\n",
              "        }\n",
              "      </script>\n",
              "    </div>\n",
              "  </div>\n",
              "  "
            ]
          },
          "metadata": {},
          "execution_count": 5
        }
      ],
      "id": "MkFlwUA5rZHe"
    },
    {
      "cell_type": "code",
      "source": [
        "df.tail()"
      ],
      "metadata": {
        "colab": {
          "base_uri": "https://localhost:8080/",
          "height": 206
        },
        "id": "fRnAWkoXrZHg",
        "outputId": "0aebe7f5-d551-4c2c-f635-7692ab7aa923"
      },
      "execution_count": 6,
      "outputs": [
        {
          "output_type": "execute_result",
          "data": {
            "text/plain": [
              "            Date        Open        High         Low       Close   Adj Close  \\\n",
              "1004  2022-01-31  401.970001  427.700012  398.200012  427.140015  427.140015   \n",
              "1005  2022-02-01  432.959991  458.480011  425.540009  457.130005  457.130005   \n",
              "1006  2022-02-02  448.250000  451.980011  426.480011  429.480011  429.480011   \n",
              "1007  2022-02-03  421.440002  429.260010  404.279999  405.600006  405.600006   \n",
              "1008  2022-02-04  407.309998  412.769989  396.640015  410.170013  410.170013   \n",
              "\n",
              "        Volume  \n",
              "1004  20047500  \n",
              "1005  22542300  \n",
              "1006  14346000  \n",
              "1007   9905200  \n",
              "1008   7782400  "
            ],
            "text/html": [
              "\n",
              "  <div id=\"df-57fee40f-4a22-4a52-a1de-3f00c1a8865b\">\n",
              "    <div class=\"colab-df-container\">\n",
              "      <div>\n",
              "<style scoped>\n",
              "    .dataframe tbody tr th:only-of-type {\n",
              "        vertical-align: middle;\n",
              "    }\n",
              "\n",
              "    .dataframe tbody tr th {\n",
              "        vertical-align: top;\n",
              "    }\n",
              "\n",
              "    .dataframe thead th {\n",
              "        text-align: right;\n",
              "    }\n",
              "</style>\n",
              "<table border=\"1\" class=\"dataframe\">\n",
              "  <thead>\n",
              "    <tr style=\"text-align: right;\">\n",
              "      <th></th>\n",
              "      <th>Date</th>\n",
              "      <th>Open</th>\n",
              "      <th>High</th>\n",
              "      <th>Low</th>\n",
              "      <th>Close</th>\n",
              "      <th>Adj Close</th>\n",
              "      <th>Volume</th>\n",
              "    </tr>\n",
              "  </thead>\n",
              "  <tbody>\n",
              "    <tr>\n",
              "      <th>1004</th>\n",
              "      <td>2022-01-31</td>\n",
              "      <td>401.970001</td>\n",
              "      <td>427.700012</td>\n",
              "      <td>398.200012</td>\n",
              "      <td>427.140015</td>\n",
              "      <td>427.140015</td>\n",
              "      <td>20047500</td>\n",
              "    </tr>\n",
              "    <tr>\n",
              "      <th>1005</th>\n",
              "      <td>2022-02-01</td>\n",
              "      <td>432.959991</td>\n",
              "      <td>458.480011</td>\n",
              "      <td>425.540009</td>\n",
              "      <td>457.130005</td>\n",
              "      <td>457.130005</td>\n",
              "      <td>22542300</td>\n",
              "    </tr>\n",
              "    <tr>\n",
              "      <th>1006</th>\n",
              "      <td>2022-02-02</td>\n",
              "      <td>448.250000</td>\n",
              "      <td>451.980011</td>\n",
              "      <td>426.480011</td>\n",
              "      <td>429.480011</td>\n",
              "      <td>429.480011</td>\n",
              "      <td>14346000</td>\n",
              "    </tr>\n",
              "    <tr>\n",
              "      <th>1007</th>\n",
              "      <td>2022-02-03</td>\n",
              "      <td>421.440002</td>\n",
              "      <td>429.260010</td>\n",
              "      <td>404.279999</td>\n",
              "      <td>405.600006</td>\n",
              "      <td>405.600006</td>\n",
              "      <td>9905200</td>\n",
              "    </tr>\n",
              "    <tr>\n",
              "      <th>1008</th>\n",
              "      <td>2022-02-04</td>\n",
              "      <td>407.309998</td>\n",
              "      <td>412.769989</td>\n",
              "      <td>396.640015</td>\n",
              "      <td>410.170013</td>\n",
              "      <td>410.170013</td>\n",
              "      <td>7782400</td>\n",
              "    </tr>\n",
              "  </tbody>\n",
              "</table>\n",
              "</div>\n",
              "      <button class=\"colab-df-convert\" onclick=\"convertToInteractive('df-57fee40f-4a22-4a52-a1de-3f00c1a8865b')\"\n",
              "              title=\"Convert this dataframe to an interactive table.\"\n",
              "              style=\"display:none;\">\n",
              "        \n",
              "  <svg xmlns=\"http://www.w3.org/2000/svg\" height=\"24px\"viewBox=\"0 0 24 24\"\n",
              "       width=\"24px\">\n",
              "    <path d=\"M0 0h24v24H0V0z\" fill=\"none\"/>\n",
              "    <path d=\"M18.56 5.44l.94 2.06.94-2.06 2.06-.94-2.06-.94-.94-2.06-.94 2.06-2.06.94zm-11 1L8.5 8.5l.94-2.06 2.06-.94-2.06-.94L8.5 2.5l-.94 2.06-2.06.94zm10 10l.94 2.06.94-2.06 2.06-.94-2.06-.94-.94-2.06-.94 2.06-2.06.94z\"/><path d=\"M17.41 7.96l-1.37-1.37c-.4-.4-.92-.59-1.43-.59-.52 0-1.04.2-1.43.59L10.3 9.45l-7.72 7.72c-.78.78-.78 2.05 0 2.83L4 21.41c.39.39.9.59 1.41.59.51 0 1.02-.2 1.41-.59l7.78-7.78 2.81-2.81c.8-.78.8-2.07 0-2.86zM5.41 20L4 18.59l7.72-7.72 1.47 1.35L5.41 20z\"/>\n",
              "  </svg>\n",
              "      </button>\n",
              "      \n",
              "  <style>\n",
              "    .colab-df-container {\n",
              "      display:flex;\n",
              "      flex-wrap:wrap;\n",
              "      gap: 12px;\n",
              "    }\n",
              "\n",
              "    .colab-df-convert {\n",
              "      background-color: #E8F0FE;\n",
              "      border: none;\n",
              "      border-radius: 50%;\n",
              "      cursor: pointer;\n",
              "      display: none;\n",
              "      fill: #1967D2;\n",
              "      height: 32px;\n",
              "      padding: 0 0 0 0;\n",
              "      width: 32px;\n",
              "    }\n",
              "\n",
              "    .colab-df-convert:hover {\n",
              "      background-color: #E2EBFA;\n",
              "      box-shadow: 0px 1px 2px rgba(60, 64, 67, 0.3), 0px 1px 3px 1px rgba(60, 64, 67, 0.15);\n",
              "      fill: #174EA6;\n",
              "    }\n",
              "\n",
              "    [theme=dark] .colab-df-convert {\n",
              "      background-color: #3B4455;\n",
              "      fill: #D2E3FC;\n",
              "    }\n",
              "\n",
              "    [theme=dark] .colab-df-convert:hover {\n",
              "      background-color: #434B5C;\n",
              "      box-shadow: 0px 1px 3px 1px rgba(0, 0, 0, 0.15);\n",
              "      filter: drop-shadow(0px 1px 2px rgba(0, 0, 0, 0.3));\n",
              "      fill: #FFFFFF;\n",
              "    }\n",
              "  </style>\n",
              "\n",
              "      <script>\n",
              "        const buttonEl =\n",
              "          document.querySelector('#df-57fee40f-4a22-4a52-a1de-3f00c1a8865b button.colab-df-convert');\n",
              "        buttonEl.style.display =\n",
              "          google.colab.kernel.accessAllowed ? 'block' : 'none';\n",
              "\n",
              "        async function convertToInteractive(key) {\n",
              "          const element = document.querySelector('#df-57fee40f-4a22-4a52-a1de-3f00c1a8865b');\n",
              "          const dataTable =\n",
              "            await google.colab.kernel.invokeFunction('convertToInteractive',\n",
              "                                                     [key], {});\n",
              "          if (!dataTable) return;\n",
              "\n",
              "          const docLinkHtml = 'Like what you see? Visit the ' +\n",
              "            '<a target=\"_blank\" href=https://colab.research.google.com/notebooks/data_table.ipynb>data table notebook</a>'\n",
              "            + ' to learn more about interactive tables.';\n",
              "          element.innerHTML = '';\n",
              "          dataTable['output_type'] = 'display_data';\n",
              "          await google.colab.output.renderOutput(dataTable, element);\n",
              "          const docLink = document.createElement('div');\n",
              "          docLink.innerHTML = docLinkHtml;\n",
              "          element.appendChild(docLink);\n",
              "        }\n",
              "      </script>\n",
              "    </div>\n",
              "  </div>\n",
              "  "
            ]
          },
          "metadata": {},
          "execution_count": 6
        }
      ],
      "id": "fRnAWkoXrZHg"
    },
    {
      "cell_type": "code",
      "source": [
        "df.shape"
      ],
      "metadata": {
        "colab": {
          "base_uri": "https://localhost:8080/"
        },
        "id": "x7aZi5XfrZHh",
        "outputId": "5a0c6eb9-ef06-46a8-a51d-639b8fc404f7"
      },
      "execution_count": 7,
      "outputs": [
        {
          "output_type": "execute_result",
          "data": {
            "text/plain": [
              "(1009, 7)"
            ]
          },
          "metadata": {},
          "execution_count": 7
        }
      ],
      "id": "x7aZi5XfrZHh"
    },
    {
      "cell_type": "code",
      "source": [
        "df['Adj Close'].plot()"
      ],
      "metadata": {
        "colab": {
          "base_uri": "https://localhost:8080/",
          "height": 282
        },
        "id": "xKtVjVwCrZHi",
        "outputId": "53d2f849-cd2f-4d17-e6ef-9898156a4a75"
      },
      "execution_count": 8,
      "outputs": [
        {
          "output_type": "execute_result",
          "data": {
            "text/plain": [
              "<AxesSubplot:>"
            ]
          },
          "metadata": {},
          "execution_count": 8
        },
        {
          "output_type": "display_data",
          "data": {
            "text/plain": [
              "<Figure size 432x288 with 1 Axes>"
            ],
            "image/png": "[encoded data removed]"
          },
          "metadata": {
            "needs_background": "light"
          }
        }
      ],
      "id": "xKtVjVwCrZHi"
    },
    {
      "cell_type": "code",
      "source": [
        "output_var = pd.DataFrame(df['Adj Close']) "
      ],
      "metadata": {
        "id": "diqzx5O-rZHi"
      },
      "execution_count": 10,
      "outputs": [],
      "id": "diqzx5O-rZHi"
    },
    {
      "cell_type": "code",
      "source": [
        "features = ['Open', 'High', 'Low', 'Volume']"
      ],
      "metadata": {
        "id": "YX6kS_QQrZHj"
      },
      "execution_count": 11,
      "outputs": [],
      "id": "YX6kS_QQrZHj"
    },
    {
      "cell_type": "code",
      "source": [
        "scaler = MinMaxScaler()\n",
        "feature_tf = scaler.fit_transform(df[features])\n",
        "feature_tf = pd.DataFrame(columns = features, data = feature_tf, index = df.index)\n",
        "feature_tf.head()"
      ],
      "metadata": {
        "colab": {
          "base_uri": "https://localhost:8080/",
          "height": 206
        },
        "id": "jlvNoX6JrZHj",
        "outputId": "cfefee2a-06ce-4607-90ed-31c5893d41ee"
      },
      "execution_count": 13,
      "outputs": [
        {
          "output_type": "execute_result",
          "data": {
            "text/plain": [
              "       Open      High       Low    Volume\n",
              "0  0.061253  0.038304  0.041331  0.186150\n",
              "1  0.030059  0.035640  0.030273  0.198264\n",
              "2  0.071243  0.048408  0.072770  0.135690\n",
              "3  0.072334  0.037683  0.041265  0.141320\n",
              "4  0.043474  0.011436  0.010729  0.272902"
            ],
            "text/html": [
              "\n",
              "  <div id=\"df-b3dc8174-83e7-4d87-a4f1-ea31f24e028a\">\n",
              "    <div class=\"colab-df-container\">\n",
              "      <div>\n",
              "<style scoped>\n",
              "    .dataframe tbody tr th:only-of-type {\n",
              "        vertical-align: middle;\n",
              "    }\n",
              "\n",
              "    .dataframe tbody tr th {\n",
              "        vertical-align: top;\n",
              "    }\n",
              "\n",
              "    .dataframe thead th {\n",
              "        text-align: right;\n",
              "    }\n",
              "</style>\n",
              "<table border=\"1\" class=\"dataframe\">\n",
              "  <thead>\n",
              "    <tr style=\"text-align: right;\">\n",
              "      <th></th>\n",
              "      <th>Open</th>\n",
              "      <th>High</th>\n",
              "      <th>Low</th>\n",
              "      <th>Volume</th>\n",
              "    </tr>\n",
              "  </thead>\n",
              "  <tbody>\n",
              "    <tr>\n",
              "      <th>0</th>\n",
              "      <td>0.061253</td>\n",
              "      <td>0.038304</td>\n",
              "      <td>0.041331</td>\n",
              "      <td>0.186150</td>\n",
              "    </tr>\n",
              "    <tr>\n",
              "      <th>1</th>\n",
              "      <td>0.030059</td>\n",
              "      <td>0.035640</td>\n",
              "      <td>0.030273</td>\n",
              "      <td>0.198264</td>\n",
              "    </tr>\n",
              "    <tr>\n",
              "      <th>2</th>\n",
              "      <td>0.071243</td>\n",
              "      <td>0.048408</td>\n",
              "      <td>0.072770</td>\n",
              "      <td>0.135690</td>\n",
              "    </tr>\n",
              "    <tr>\n",
              "      <th>3</th>\n",
              "      <td>0.072334</td>\n",
              "      <td>0.037683</td>\n",
              "      <td>0.041265</td>\n",
              "      <td>0.141320</td>\n",
              "    </tr>\n",
              "    <tr>\n",
              "      <th>4</th>\n",
              "      <td>0.043474</td>\n",
              "      <td>0.011436</td>\n",
              "      <td>0.010729</td>\n",
              "      <td>0.272902</td>\n",
              "    </tr>\n",
              "  </tbody>\n",
              "</table>\n",
              "</div>\n",
              "      <button class=\"colab-df-convert\" onclick=\"convertToInteractive('df-b3dc8174-83e7-4d87-a4f1-ea31f24e028a')\"\n",
              "              title=\"Convert this dataframe to an interactive table.\"\n",
              "              style=\"display:none;\">\n",
              "        \n",
              "  <svg xmlns=\"http://www.w3.org/2000/svg\" height=\"24px\"viewBox=\"0 0 24 24\"\n",
              "       width=\"24px\">\n",
              "    <path d=\"M0 0h24v24H0V0z\" fill=\"none\"/>\n",
              "    <path d=\"M18.56 5.44l.94 2.06.94-2.06 2.06-.94-2.06-.94-.94-2.06-.94 2.06-2.06.94zm-11 1L8.5 8.5l.94-2.06 2.06-.94-2.06-.94L8.5 2.5l-.94 2.06-2.06.94zm10 10l.94 2.06.94-2.06 2.06-.94-2.06-.94-.94-2.06-.94 2.06-2.06.94z\"/><path d=\"M17.41 7.96l-1.37-1.37c-.4-.4-.92-.59-1.43-.59-.52 0-1.04.2-1.43.59L10.3 9.45l-7.72 7.72c-.78.78-.78 2.05 0 2.83L4 21.41c.39.39.9.59 1.41.59.51 0 1.02-.2 1.41-.59l7.78-7.78 2.81-2.81c.8-.78.8-2.07 0-2.86zM5.41 20L4 18.59l7.72-7.72 1.47 1.35L5.41 20z\"/>\n",
              "  </svg>\n",
              "      </button>\n",
              "      \n",
              "  <style>\n",
              "    .colab-df-container {\n",
              "      display:flex;\n",
              "      flex-wrap:wrap;\n",
              "      gap: 12px;\n",
              "    }\n",
              "\n",
              "    .colab-df-convert {\n",
              "      background-color: #E8F0FE;\n",
              "      border: none;\n",
              "      border-radius: 50%;\n",
              "      cursor: pointer;\n",
              "      display: none;\n",
              "      fill: #1967D2;\n",
              "      height: 32px;\n",
              "      padding: 0 0 0 0;\n",
              "      width: 32px;\n",
              "    }\n",
              "\n",
              "    .colab-df-convert:hover {\n",
              "      background-color: #E2EBFA;\n",
              "      box-shadow: 0px 1px 2px rgba(60, 64, 67, 0.3), 0px 1px 3px 1px rgba(60, 64, 67, 0.15);\n",
              "      fill: #174EA6;\n",
              "    }\n",
              "\n",
              "    [theme=dark] .colab-df-convert {\n",
              "      background-color: #3B4455;\n",
              "      fill: #D2E3FC;\n",
              "    }\n",
              "\n",
              "    [theme=dark] .colab-df-convert:hover {\n",
              "      background-color: #434B5C;\n",
              "      box-shadow: 0px 1px 3px 1px rgba(0, 0, 0, 0.15);\n",
              "      filter: drop-shadow(0px 1px 2px rgba(0, 0, 0, 0.3));\n",
              "      fill: #FFFFFF;\n",
              "    }\n",
              "  </style>\n",
              "\n",
              "      <script>\n",
              "        const buttonEl =\n",
              "          document.querySelector('#df-b3dc8174-83e7-4d87-a4f1-ea31f24e028a button.colab-df-convert');\n",
              "        buttonEl.style.display =\n",
              "          google.colab.kernel.accessAllowed ? 'block' : 'none';\n",
              "\n",
              "        async function convertToInteractive(key) {\n",
              "          const element = document.querySelector('#df-b3dc8174-83e7-4d87-a4f1-ea31f24e028a');\n",
              "          const dataTable =\n",
              "            await google.colab.kernel.invokeFunction('convertToInteractive',\n",
              "                                                     [key], {});\n",
              "          if (!dataTable) return;\n",
              "\n",
              "          const docLinkHtml = 'Like what you see? Visit the ' +\n",
              "            '<a target=\"_blank\" href=https://colab.research.google.com/notebooks/data_table.ipynb>data table notebook</a>'\n",
              "            + ' to learn more about interactive tables.';\n",
              "          element.innerHTML = '';\n",
              "          dataTable['output_type'] = 'display_data';\n",
              "          await google.colab.output.renderOutput(dataTable, element);\n",
              "          const docLink = document.createElement('div');\n",
              "          docLink.innerHTML = docLinkHtml;\n",
              "          element.appendChild(docLink);\n",
              "        }\n",
              "      </script>\n",
              "    </div>\n",
              "  </div>\n",
              "  "
            ]
          },
          "metadata": {},
          "execution_count": 13
        }
      ],
      "id": "jlvNoX6JrZHj"
    },
    {
      "cell_type": "code",
      "source": [
        "#Splits the csv data into sets for training the model (90% of the data) and testing the model (10% of the data)\n",
        "timesplit = TimeSeriesSplit(n_splits=10) \n",
        "for train_index, test_index in timesplit.split(feature_tf):\n",
        "        X_train, X_test = feature_tf[:len(train_index)], feature_tf[len(train_index): (len(train_index)+len(test_index))]\n",
        "        y_train, y_test = output_var[:len(train_index)].values.ravel(), output_var[len(train_index): (len(train_index)+len(test_index))].values.ravel()"
      ],
      "metadata": {
        "id": "E653BZ2QrZHk"
      },
      "execution_count": 14,
      "outputs": [],
      "id": "E653BZ2QrZHk"
    },
    {
      "cell_type": "code",
      "source": [
        "# processing the data for the LSTM\n",
        "trainX =np.array(X_train)\n",
        "testX =np.array(X_test)\n",
        "X_train = trainX.reshape(X_train.shape[0], 1, X_train.shape[1])\n",
        "X_test = testX.reshape(X_test.shape[0], 1, X_test.shape[1])"
      ],
      "metadata": {
        "id": "LeZ_wUFWrZHl"
      },
      "execution_count": 15,
      "outputs": [],
      "id": "LeZ_wUFWrZHl"
    },
    {
      "cell_type": "code",
      "source": [
        "X_train.shape"
      ],
      "metadata": {
        "colab": {
          "base_uri": "https://localhost:8080/"
        },
        "id": "xKHItbhZrZHl",
        "outputId": "83c7e64f-8751-4ecf-e279-3fda248bd650"
      },
      "execution_count": 16,
      "outputs": [
        {
          "output_type": "execute_result",
          "data": {
            "text/plain": [
              "(918, 1, 4)"
            ]
          },
          "metadata": {},
          "execution_count": 16
        }
      ],
      "id": "xKHItbhZrZHl"
    },
    {
      "cell_type": "code",
      "source": [
        "X_test.shape # displays the shape of X_train and X_test"
      ],
      "metadata": {
        "colab": {
          "base_uri": "https://localhost:8080/"
        },
        "id": "ZTbTwQIBrZHm",
        "outputId": "ebd45c24-b8f6-44c3-d87e-78609e242ce4"
      },
      "execution_count": 17,
      "outputs": [
        {
          "output_type": "execute_result",
          "data": {
            "text/plain": [
              "(91, 1, 4)"
            ]
          },
          "metadata": {},
          "execution_count": 17
        }
      ],
      "id": "ZTbTwQIBrZHm"
    },
    {
      "cell_type": "code",
      "source": [
        "#Building the LSTM Model\n",
        "lstm = Sequential()\n",
        "lstm.add(LSTM(32, input_shape=(1, trainX.shape[1]), activation='relu', return_sequences=False))\n",
        "lstm.add(Dense(1)) \n",
        "lstm.compile(loss='mean_absolute_error', optimizer='adam')\n"
      ],
      "metadata": {
        "id": "9xddFCKNrZHm"
      },
      "execution_count": 18,
      "outputs": [],
      "id": "9xddFCKNrZHm"
    },
    {
      "cell_type": "code",
      "source": [
        "model = lstm.fit(X_train, y_train, epochs = 150, batch_size = 8, verbose = 1)\n",
        "# training the model on 150 epochs"
      ],
      "metadata": {
        "colab": {
          "base_uri": "https://localhost:8080/"
        },
        "id": "ml0zZhytrZHn",
        "outputId": "315eca90-441e-4516-c5eb-0c33b427f6d0"
      },
      "execution_count": 19,
      "outputs": [
        {
          "output_type": "stream",
          "name": "stdout",
          "text": [
            "Epoch 1/150\n",
            "115/115 [==============================] - 3s 5ms/step - loss: 401.2551\n",
            "Epoch 2/150\n",
            "115/115 [==============================] - 1s 5ms/step - loss: 399.7323\n",
            "Epoch 3/150\n",
            "115/115 [==============================] - 1s 6ms/step - loss: 395.4422\n",
            "Epoch 4/150\n",
            "115/115 [==============================] - 1s 5ms/step - loss: 387.2952\n",
            "Epoch 5/150\n",
            "115/115 [==============================] - 1s 5ms/step - loss: 375.3386\n",
            "Epoch 6/150\n",
            "115/115 [==============================] - 0s 3ms/step - loss: 360.0502\n",
            "Epoch 7/150\n",
            "115/115 [==============================] - 0s 3ms/step - loss: 341.8843\n",
            "Epoch 8/150\n",
            "115/115 [==============================] - 0s 3ms/step - loss: 321.2350\n",
            "Epoch 9/150\n",
            "115/115 [==============================] - 0s 3ms/step - loss: 298.3723\n",
            "Epoch 10/150\n",
            "115/115 [==============================] - 0s 3ms/step - loss: 273.4496\n",
            "Epoch 11/150\n",
            "115/115 [==============================] - 0s 3ms/step - loss: 246.6746\n",
            "Epoch 12/150\n",
            "115/115 [==============================] - 0s 3ms/step - loss: 218.0977\n",
            "Epoch 13/150\n",
            "115/115 [==============================] - 0s 3ms/step - loss: 187.8601\n",
            "Epoch 14/150\n",
            "115/115 [==============================] - 0s 3ms/step - loss: 155.9865\n",
            "Epoch 15/150\n",
            "115/115 [==============================] - 0s 3ms/step - loss: 122.5110\n",
            "Epoch 16/150\n",
            "115/115 [==============================] - 0s 3ms/step - loss: 87.6256\n",
            "Epoch 17/150\n",
            "115/115 [==============================] - 0s 3ms/step - loss: 51.9704\n",
            "Epoch 18/150\n",
            "115/115 [==============================] - 0s 3ms/step - loss: 23.7810\n",
            "Epoch 19/150\n",
            "115/115 [==============================] - 0s 3ms/step - loss: 17.9584\n",
            "Epoch 20/150\n",
            "115/115 [==============================] - 0s 4ms/step - loss: 16.9258\n",
            "Epoch 21/150\n",
            "115/115 [==============================] - 0s 4ms/step - loss: 15.9858\n",
            "Epoch 22/150\n",
            "115/115 [==============================] - 0s 3ms/step - loss: 15.1598\n",
            "Epoch 23/150\n",
            "115/115 [==============================] - 0s 3ms/step - loss: 14.3997\n",
            "Epoch 24/150\n",
            "115/115 [==============================] - 0s 3ms/step - loss: 13.7274\n",
            "Epoch 25/150\n",
            "115/115 [==============================] - 0s 3ms/step - loss: 13.1012\n",
            "Epoch 26/150\n",
            "115/115 [==============================] - 0s 3ms/step - loss: 12.5096\n",
            "Epoch 27/150\n",
            "115/115 [==============================] - 0s 3ms/step - loss: 12.0161\n",
            "Epoch 28/150\n",
            "115/115 [==============================] - 0s 3ms/step - loss: 11.5714\n",
            "Epoch 29/150\n",
            "115/115 [==============================] - 0s 3ms/step - loss: 11.2017\n",
            "Epoch 30/150\n",
            "115/115 [==============================] - 0s 3ms/step - loss: 10.8683\n",
            "Epoch 31/150\n",
            "115/115 [==============================] - 0s 3ms/step - loss: 10.5812\n",
            "Epoch 32/150\n",
            "115/115 [==============================] - 0s 4ms/step - loss: 10.2882\n",
            "Epoch 33/150\n",
            "115/115 [==============================] - 1s 5ms/step - loss: 10.0342\n",
            "Epoch 34/150\n",
            "115/115 [==============================] - 1s 5ms/step - loss: 9.8043\n",
            "Epoch 35/150\n",
            "115/115 [==============================] - 1s 5ms/step - loss: 9.5660\n",
            "Epoch 36/150\n",
            "115/115 [==============================] - 1s 5ms/step - loss: 9.3529\n",
            "Epoch 37/150\n",
            "115/115 [==============================] - 1s 5ms/step - loss: 9.1481\n",
            "Epoch 38/150\n",
            "115/115 [==============================] - 0s 3ms/step - loss: 8.9125\n",
            "Epoch 39/150\n",
            "115/115 [==============================] - 0s 3ms/step - loss: 8.7039\n",
            "Epoch 40/150\n",
            "115/115 [==============================] - 0s 3ms/step - loss: 8.4886\n",
            "Epoch 41/150\n",
            "115/115 [==============================] - 0s 3ms/step - loss: 8.2941\n",
            "Epoch 42/150\n",
            "115/115 [==============================] - 0s 3ms/step - loss: 8.0829\n",
            "Epoch 43/150\n",
            "115/115 [==============================] - 0s 3ms/step - loss: 7.8940\n",
            "Epoch 44/150\n",
            "115/115 [==============================] - 0s 3ms/step - loss: 7.6729\n",
            "Epoch 45/150\n",
            "115/115 [==============================] - 0s 4ms/step - loss: 7.5048\n",
            "Epoch 46/150\n",
            "115/115 [==============================] - 0s 3ms/step - loss: 7.3240\n",
            "Epoch 47/150\n",
            "115/115 [==============================] - 0s 3ms/step - loss: 7.1339\n",
            "Epoch 48/150\n",
            "115/115 [==============================] - 0s 3ms/step - loss: 6.9751\n",
            "Epoch 49/150\n",
            "115/115 [==============================] - 0s 3ms/step - loss: 6.8003\n",
            "Epoch 50/150\n",
            "115/115 [==============================] - 0s 3ms/step - loss: 6.6242\n",
            "Epoch 51/150\n",
            "115/115 [==============================] - 0s 3ms/step - loss: 6.4579\n",
            "Epoch 52/150\n",
            "115/115 [==============================] - 0s 3ms/step - loss: 6.3360\n",
            "Epoch 53/150\n",
            "115/115 [==============================] - 0s 3ms/step - loss: 6.1701\n",
            "Epoch 54/150\n",
            "115/115 [==============================] - 0s 3ms/step - loss: 6.0160\n",
            "Epoch 55/150\n",
            "115/115 [==============================] - 0s 3ms/step - loss: 5.8739\n",
            "Epoch 56/150\n",
            "115/115 [==============================] - 0s 3ms/step - loss: 5.7676\n",
            "Epoch 57/150\n",
            "115/115 [==============================] - 0s 3ms/step - loss: 5.6123\n",
            "Epoch 58/150\n",
            "115/115 [==============================] - 1s 6ms/step - loss: 5.5036\n",
            "Epoch 59/150\n",
            "115/115 [==============================] - 1s 6ms/step - loss: 5.4159\n",
            "Epoch 60/150\n",
            "115/115 [==============================] - 1s 12ms/step - loss: 5.3006\n",
            "Epoch 61/150\n",
            "115/115 [==============================] - 1s 10ms/step - loss: 5.2076\n",
            "Epoch 62/150\n",
            "115/115 [==============================] - 1s 10ms/step - loss: 5.0906\n",
            "Epoch 63/150\n",
            "115/115 [==============================] - 1s 10ms/step - loss: 5.0171\n",
            "Epoch 64/150\n",
            "115/115 [==============================] - 1s 6ms/step - loss: 5.0204\n",
            "Epoch 65/150\n",
            "115/115 [==============================] - 1s 6ms/step - loss: 4.8587\n",
            "Epoch 66/150\n",
            "115/115 [==============================] - 1s 7ms/step - loss: 4.7947\n",
            "Epoch 67/150\n",
            "115/115 [==============================] - 1s 6ms/step - loss: 4.7252\n",
            "Epoch 68/150\n",
            "115/115 [==============================] - 1s 5ms/step - loss: 4.7042\n",
            "Epoch 69/150\n",
            "115/115 [==============================] - 1s 7ms/step - loss: 4.6084\n",
            "Epoch 70/150\n",
            "115/115 [==============================] - 1s 8ms/step - loss: 4.5512\n",
            "Epoch 71/150\n",
            "115/115 [==============================] - 1s 7ms/step - loss: 4.4988\n",
            "Epoch 72/150\n",
            "115/115 [==============================] - 1s 9ms/step - loss: 4.4842\n",
            "Epoch 73/150\n",
            "115/115 [==============================] - 0s 4ms/step - loss: 4.4487\n",
            "Epoch 74/150\n",
            "115/115 [==============================] - 0s 3ms/step - loss: 4.4176\n",
            "Epoch 75/150\n",
            "115/115 [==============================] - 0s 3ms/step - loss: 4.4224\n",
            "Epoch 76/150\n",
            "115/115 [==============================] - 0s 3ms/step - loss: 4.3722\n",
            "Epoch 77/150\n",
            "115/115 [==============================] - 0s 3ms/step - loss: 4.3458\n",
            "Epoch 78/150\n",
            "115/115 [==============================] - 0s 3ms/step - loss: 4.3748\n",
            "Epoch 79/150\n",
            "115/115 [==============================] - 1s 5ms/step - loss: 4.3193\n",
            "Epoch 80/150\n",
            "115/115 [==============================] - 1s 6ms/step - loss: 4.3204\n",
            "Epoch 81/150\n",
            "115/115 [==============================] - 1s 6ms/step - loss: 4.3473\n",
            "Epoch 82/150\n",
            "115/115 [==============================] - 1s 5ms/step - loss: 4.3016\n",
            "Epoch 83/150\n",
            "115/115 [==============================] - 1s 4ms/step - loss: 4.3113\n",
            "Epoch 84/150\n",
            "115/115 [==============================] - 0s 3ms/step - loss: 4.2959\n",
            "Epoch 85/150\n",
            "115/115 [==============================] - 0s 3ms/step - loss: 4.2856\n",
            "Epoch 86/150\n",
            "115/115 [==============================] - 0s 3ms/step - loss: 4.2854\n",
            "Epoch 87/150\n",
            "115/115 [==============================] - 0s 3ms/step - loss: 4.2715\n",
            "Epoch 88/150\n",
            "115/115 [==============================] - 0s 3ms/step - loss: 4.2468\n",
            "Epoch 89/150\n",
            "115/115 [==============================] - 0s 3ms/step - loss: 4.2707\n",
            "Epoch 90/150\n",
            "115/115 [==============================] - 0s 3ms/step - loss: 4.2527\n",
            "Epoch 91/150\n",
            "115/115 [==============================] - 0s 3ms/step - loss: 4.2605\n",
            "Epoch 92/150\n",
            "115/115 [==============================] - 0s 4ms/step - loss: 4.2786\n",
            "Epoch 93/150\n",
            "115/115 [==============================] - 0s 3ms/step - loss: 4.2674\n",
            "Epoch 94/150\n",
            "115/115 [==============================] - 0s 3ms/step - loss: 4.2391\n",
            "Epoch 95/150\n",
            "115/115 [==============================] - 0s 4ms/step - loss: 4.2588\n",
            "Epoch 96/150\n",
            "115/115 [==============================] - 0s 3ms/step - loss: 4.2471\n",
            "Epoch 97/150\n",
            "115/115 [==============================] - 0s 3ms/step - loss: 4.2467\n",
            "Epoch 98/150\n",
            "115/115 [==============================] - 0s 3ms/step - loss: 4.2482\n",
            "Epoch 99/150\n",
            "115/115 [==============================] - 0s 3ms/step - loss: 4.2626\n",
            "Epoch 100/150\n",
            "115/115 [==============================] - 0s 3ms/step - loss: 4.2372\n",
            "Epoch 101/150\n",
            "115/115 [==============================] - 0s 3ms/step - loss: 4.2252\n",
            "Epoch 102/150\n",
            "115/115 [==============================] - 0s 3ms/step - loss: 4.2195\n",
            "Epoch 103/150\n",
            "115/115 [==============================] - 0s 3ms/step - loss: 4.2583\n",
            "Epoch 104/150\n",
            "115/115 [==============================] - 0s 3ms/step - loss: 4.2421\n",
            "Epoch 105/150\n",
            "115/115 [==============================] - 0s 3ms/step - loss: 4.2174\n",
            "Epoch 106/150\n",
            "115/115 [==============================] - 0s 3ms/step - loss: 4.2295\n",
            "Epoch 107/150\n",
            "115/115 [==============================] - 0s 3ms/step - loss: 4.2421\n",
            "Epoch 108/150\n",
            "115/115 [==============================] - 0s 3ms/step - loss: 4.2188\n",
            "Epoch 109/150\n",
            "115/115 [==============================] - 0s 3ms/step - loss: 4.2439\n",
            "Epoch 110/150\n",
            "115/115 [==============================] - 1s 5ms/step - loss: 4.2680\n",
            "Epoch 111/150\n",
            "115/115 [==============================] - 1s 5ms/step - loss: 4.2234\n",
            "Epoch 112/150\n",
            "115/115 [==============================] - 1s 5ms/step - loss: 4.2307\n",
            "Epoch 113/150\n",
            "115/115 [==============================] - 1s 5ms/step - loss: 4.2285\n",
            "Epoch 114/150\n",
            "115/115 [==============================] - 1s 5ms/step - loss: 4.2373\n",
            "Epoch 115/150\n",
            "115/115 [==============================] - 0s 4ms/step - loss: 4.2259\n",
            "Epoch 116/150\n",
            "115/115 [==============================] - 0s 3ms/step - loss: 4.2495\n",
            "Epoch 117/150\n",
            "115/115 [==============================] - 0s 4ms/step - loss: 4.2240\n",
            "Epoch 118/150\n",
            "115/115 [==============================] - 0s 3ms/step - loss: 4.2232\n",
            "Epoch 119/150\n",
            "115/115 [==============================] - 0s 3ms/step - loss: 4.1985\n",
            "Epoch 120/150\n",
            "115/115 [==============================] - 0s 3ms/step - loss: 4.2178\n",
            "Epoch 121/150\n",
            "115/115 [==============================] - 0s 3ms/step - loss: 4.2090\n",
            "Epoch 122/150\n",
            "115/115 [==============================] - 0s 3ms/step - loss: 4.2196\n",
            "Epoch 123/150\n",
            "115/115 [==============================] - 0s 3ms/step - loss: 4.2043\n",
            "Epoch 124/150\n",
            "115/115 [==============================] - 0s 3ms/step - loss: 4.2043\n",
            "Epoch 125/150\n",
            "115/115 [==============================] - 0s 3ms/step - loss: 4.1860\n",
            "Epoch 126/150\n",
            "115/115 [==============================] - 0s 3ms/step - loss: 4.2099\n",
            "Epoch 127/150\n",
            "115/115 [==============================] - 0s 3ms/step - loss: 4.2120\n",
            "Epoch 128/150\n",
            "115/115 [==============================] - 0s 3ms/step - loss: 4.2014\n",
            "Epoch 129/150\n",
            "115/115 [==============================] - 0s 3ms/step - loss: 4.2330\n",
            "Epoch 130/150\n",
            "115/115 [==============================] - 0s 3ms/step - loss: 4.1878\n",
            "Epoch 131/150\n",
            "115/115 [==============================] - 0s 3ms/step - loss: 4.2160\n",
            "Epoch 132/150\n",
            "115/115 [==============================] - 0s 3ms/step - loss: 4.2168\n",
            "Epoch 133/150\n",
            "115/115 [==============================] - 0s 3ms/step - loss: 4.2212\n",
            "Epoch 134/150\n",
            "115/115 [==============================] - 0s 3ms/step - loss: 4.2020\n",
            "Epoch 135/150\n",
            "115/115 [==============================] - 0s 3ms/step - loss: 4.1973\n",
            "Epoch 136/150\n",
            "115/115 [==============================] - 0s 3ms/step - loss: 4.1857\n",
            "Epoch 137/150\n",
            "115/115 [==============================] - 0s 3ms/step - loss: 4.2510\n",
            "Epoch 138/150\n",
            "115/115 [==============================] - 0s 3ms/step - loss: 4.2005\n",
            "Epoch 139/150\n",
            "115/115 [==============================] - 0s 4ms/step - loss: 4.1920\n",
            "Epoch 140/150\n",
            "115/115 [==============================] - 0s 3ms/step - loss: 4.1753\n",
            "Epoch 141/150\n",
            "115/115 [==============================] - 0s 3ms/step - loss: 4.1865\n",
            "Epoch 142/150\n",
            "115/115 [==============================] - 1s 5ms/step - loss: 4.1601\n",
            "Epoch 143/150\n",
            "115/115 [==============================] - 1s 5ms/step - loss: 4.1919\n",
            "Epoch 144/150\n",
            "115/115 [==============================] - 1s 5ms/step - loss: 4.1841\n",
            "Epoch 145/150\n",
            "115/115 [==============================] - 1s 5ms/step - loss: 4.1718\n",
            "Epoch 146/150\n",
            "115/115 [==============================] - 1s 5ms/step - loss: 4.1781\n",
            "Epoch 147/150\n",
            "115/115 [==============================] - 0s 3ms/step - loss: 4.1829\n",
            "Epoch 148/150\n",
            "115/115 [==============================] - 0s 3ms/step - loss: 4.1992\n",
            "Epoch 149/150\n",
            "115/115 [==============================] - 0s 3ms/step - loss: 4.1860\n",
            "Epoch 150/150\n",
            "115/115 [==============================] - 0s 3ms/step - loss: 4.1879\n"
          ]
        }
      ],
      "id": "ml0zZhytrZHn"
    },
    {
      "cell_type": "code",
      "source": [
        "#LSTM Prediction\n",
        "y_pred = lstm.predict(X_test)"
      ],
      "metadata": {
        "colab": {
          "base_uri": "https://localhost:8080/"
        },
        "id": "Bd-yEmg1rZHn",
        "outputId": "dadb3e2e-73a7-46c3-9e64-b33a6d27a7fc"
      },
      "execution_count": 20,
      "outputs": [
        {
          "output_type": "stream",
          "name": "stdout",
          "text": [
            "3/3 [==============================] - 0s 9ms/step\n"
          ]
        }
      ],
      "id": "Bd-yEmg1rZHn"
    },
    {
      "cell_type": "code",
      "source": [
        "MAE = metrics.mean_absolute_error(y_test, y_pred) # put the MAE of the model's product into the eponymous variable"
      ],
      "metadata": {
        "id": "9vfIkdI8rZHo"
      },
      "execution_count": 21,
      "outputs": [],
      "id": "9vfIkdI8rZHo"
    },
    {
      "cell_type": "code",
      "source": [
        "MAE #display the MAE"
      ],
      "metadata": {
        "colab": {
          "base_uri": "https://localhost:8080/"
        },
        "id": "DCrpYaiqrZHo",
        "outputId": "c33b86db-972f-441e-b90f-bf037fdec685"
      },
      "execution_count": 22,
      "outputs": [
        {
          "output_type": "execute_result",
          "data": {
            "text/plain": [
              "6.208891780198318"
            ]
          },
          "metadata": {},
          "execution_count": 22
        }
      ],
      "id": "DCrpYaiqrZHo"
    },
    {
      "cell_type": "code",
      "source": [
        "# Comparing the LSTM prediction and the actual value of the Adjusted for Close price via plot\n",
        "plt.plot(y_test, label='True Value')\n",
        "plt.plot(y_pred, label='LSTM Value')\n",
        "plt.title(\"LSTM and the Actual Value\")\n",
        "plt.xlabel('Time Scale')\n",
        "plt.ylabel('Dollars Scaled')\n",
        "plt.legend()\n",
        "plt.show()"
      ],
      "metadata": {
        "colab": {
          "base_uri": "https://localhost:8080/",
          "height": 295
        },
        "id": "Cej-6WQUrZHp",
        "outputId": "c3a901ff-5fe0-4449-8172-e2e56ee140a9"
      },
      "execution_count": 23,
      "outputs": [
        {
          "output_type": "display_data",
          "data": {
            "text/plain": [
              "<Figure size 432x288 with 1 Axes>"
            ],
            "image/png": "[encoded data removed]"
          },
          "metadata": {
            "needs_background": "light"
          }
        }
      ],
      "id": "Cej-6WQUrZHp"
    }
  ]
}